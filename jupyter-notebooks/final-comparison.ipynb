{
 "cells": [
  {
   "cell_type": "markdown",
   "metadata": {},
   "source": [
    "\n",
    "# Final Comparison\n",
    "\n",
    "This notebook contains the original and replicated figures from Annavajhala et al. 2021. We set out to replicate figures 2a and 4e. They are all displayed below."
   ]
  },
  {
   "cell_type": "markdown",
   "metadata": {},
   "source": [
    "# Original Figure 2a\n",
    "\n",
    "\n",
    "![](../images/figure2a.jpg)"
   ]
  },
  {
   "cell_type": "markdown",
   "metadata": {},
   "source": [
    "## with nextstrain lineage\n",
    "\n",
    "![](../images/nextstrain_lineage_clade.png)"
   ]
  },
  {
   "cell_type": "markdown",
   "metadata": {},
   "source": [
    "## with nextstrain lineage fitness\n",
    "\n",
    "![](../images/nextstrain_lineage_fitness.png)"
   ]
  },
  {
   "cell_type": "markdown",
   "metadata": {},
   "source": [
    "## github ny phylogeny\n",
    "\n",
    "![](../images/github_ny_phylogeny.png)"
   ]
  },
  {
   "cell_type": "markdown",
   "metadata": {},
   "source": [
    "![](env_bio_covid/images//wout_nextstrain_github.png)"
   ]
  },
  {
   "cell_type": "markdown",
   "metadata": {},
   "source": [
    "## without nextstrain or github\n",
    "![](../output/ny/no_nextstrain_no_github/wout_nextstrain_github.png)"
   ]
  },
  {
   "cell_type": "markdown",
   "metadata": {},
   "source": [
    "The figures above are our attempts to replicate figure 2a. None of them perfectly replicate the original figure. Although we were able to replicate the alignment and tree building, the visualization was difficult to replicate as the documentation behind the color mapping and visualization was unclear."
   ]
  },
  {
   "cell_type": "markdown",
   "metadata": {},
   "source": [
    "## Original Figure 4e\n",
    "\n",
    "![](../images/figure4e.jpg)"
   ]
  },
  {
   "cell_type": "markdown",
   "metadata": {},
   "source": [
    "## github lineage\n",
    "\n",
    "![](../images/github_lineage.png)"
   ]
  },
  {
   "cell_type": "markdown",
   "metadata": {},
   "source": [
    "![](../images/wout_nextstrain_github.png)"
   ]
  },
  {
   "cell_type": "markdown",
   "metadata": {},
   "source": [
    "Figure 4e was only replicated using nextstrain. It looks very different from the original figure. This is likely due to differences in how the data were subset, filtered and colormapped. Those steps were not well documented in nextstrain and github and this made replication difficult."
   ]
  }
 ],
 "metadata": {
  "kernelspec": {
   "display_name": "Python 3",
   "language": "python",
   "name": "python3"
  },
  "language_info": {
   "codemirror_mode": {
    "name": "ipython",
    "version": 3
   },
   "file_extension": ".py",
   "mimetype": "text/x-python",
   "name": "python",
   "nbconvert_exporter": "python",
   "pygments_lexer": "ipython3",
   "version": "3.6.12"
  }
 },
 "nbformat": 4,
 "nbformat_minor": 4
}
