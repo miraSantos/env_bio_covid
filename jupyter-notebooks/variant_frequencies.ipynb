{
 "cells": [
  {
   "cell_type": "code",
   "execution_count": 1,
   "metadata": {},
   "outputs": [],
   "source": [
    "import lzma\n",
    "import re\n",
    "import numpy as np\n",
    "import matplotlib.pyplot as plt\n",
    "import pandas as pd\n",
    "\n",
    "from sklearn.linear_model import LinearRegression"
   ]
  },
  {
   "cell_type": "code",
   "execution_count": 2,
   "metadata": {},
   "outputs": [],
   "source": [
    "#solve linear regression\n",
    "def linear_regression(x, y):\n",
    "    X = x.reshape(-1, 1) \n",
    "    reg = LinearRegression(fit_intercept=True, normalize=True)\n",
    "    f = reg.fit(X, y)\n",
    "    a = reg.coef_[0]\n",
    "    b = reg.intercept_\n",
    "    return a, b"
   ]
  },
  {
   "cell_type": "code",
   "execution_count": 3,
   "metadata": {},
   "outputs": [],
   "source": [
    "#function to read TSV file into pandas DataFrame\n",
    "def read_xz(filename):\n",
    "    #read TSV file into pandas DataFrame\n",
    "    data_lines = []\n",
    "    with lzma.open(filename, mode='rt',encoding='Latin1') as file:\n",
    "    # with lzma.open('new_york/new_york_subsampled_metadata.tsv.xz', mode='rt',encoding='Latin1') as file:\n",
    "        for line in file:\n",
    "            data_lines.append(line)\n",
    "\n",
    "    data_lines = [re.split('\\t', l) for l in data_lines]\n",
    "    header=data_lines[0]\n",
    "    data_lines.pop(0)\n",
    "    df = pd.DataFrame(data_lines)\n",
    "    df.columns = header\n",
    "    return df\n"
   ]
  },
  {
   "cell_type": "code",
   "execution_count": 4,
   "metadata": {},
   "outputs": [],
   "source": [
    "df = read_xz('../ny_results/combined_metadata.tsv.xz')\n",
    "b11 = df[df[\"pango_lineage\"] == \"B.1.1.7\"]\n",
    "b15 = df[df[\"pango_lineage\"] == \"B.1.526\"]"
   ]
  },
  {
   "cell_type": "markdown",
   "metadata": {},
   "source": []
  },
  {
   "cell_type": "code",
   "execution_count": 6,
   "metadata": {},
   "outputs": [
    {
     "data": {
      "text/html": [
       "<div>\n",
       "<style scoped>\n",
       "    .dataframe tbody tr th:only-of-type {\n",
       "        vertical-align: middle;\n",
       "    }\n",
       "\n",
       "    .dataframe tbody tr th {\n",
       "        vertical-align: top;\n",
       "    }\n",
       "\n",
       "    .dataframe thead th {\n",
       "        text-align: right;\n",
       "    }\n",
       "</style>\n",
       "<table border=\"1\" class=\"dataframe\">\n",
       "  <thead>\n",
       "    <tr style=\"text-align: right;\">\n",
       "      <th></th>\n",
       "      <th>strain</th>\n",
       "      <th>virus</th>\n",
       "      <th>gisaid_epi_isl</th>\n",
       "      <th>genbank_accession</th>\n",
       "      <th>date</th>\n",
       "      <th>region</th>\n",
       "      <th>country</th>\n",
       "      <th>division</th>\n",
       "      <th>location</th>\n",
       "      <th>region_exposure</th>\n",
       "      <th>...</th>\n",
       "      <th>authors</th>\n",
       "      <th>url</th>\n",
       "      <th>title</th>\n",
       "      <th>paper_url</th>\n",
       "      <th>date_submitted</th>\n",
       "      <th>purpose_of_sequencing</th>\n",
       "      <th>variant</th>\n",
       "      <th>gisaid</th>\n",
       "      <th>ny</th>\n",
       "      <th>reference\\n</th>\n",
       "    </tr>\n",
       "  </thead>\n",
       "  <tbody>\n",
       "  </tbody>\n",
       "</table>\n",
       "<p>0 rows × 32 columns</p>\n",
       "</div>"
      ],
      "text/plain": [
       "Empty DataFrame\n",
       "Columns: [strain, virus, gisaid_epi_isl, genbank_accession, date, region, country, division, location, region_exposure, country_exposure, division_exposure, segment, length, host, age, sex, Nextstrain_clade, pango_lineage, GISAID_clade, originating_lab, submitting_lab, authors, url, title, paper_url, date_submitted, purpose_of_sequencing, variant, gisaid, ny, reference\n",
       "]\n",
       "Index: []\n",
       "\n",
       "[0 rows x 32 columns]"
      ]
     },
     "execution_count": 6,
     "metadata": {},
     "output_type": "execute_result"
    }
   ],
   "source": [
    "#filter for different regions and variants\n",
    "u11 = b11[b11[\"region\"] == \"North America\"]\n",
    "u15 = b15[b15[\"region\"] == \"North America\"]\n",
    "ny11 = b11[b11[\"ny\"] == \"yes\"] #no rows?\n",
    "ny15 = b15[b15[\"ny\"] == \"yes\"]\n",
    "\n",
    "def get_frequency(mdf):\n",
    "    #get counts by day\n",
    "    mdf.sort_values(by=['date'])\n",
    "    r_df = mdf.groupby(['date']).count()\n",
    "    r_df = r_df.iloc[:,:1]\n",
    "    r_df.reset_index(level=0, drop=True)\n",
    "    #get rolling 7 day average\n",
    "    r_df=r_df.rolling(window=7).mean() \n",
    "    r_df=r_df.dropna()\n",
    "    #rename columns (now we have counts)\n",
    "    r_df.rename(columns = {'strain':'count'}, inplace = True)\n",
    "    r_sr = r_df['count']\n",
    "    vals = r_sr.values\n",
    "    return r_sr,vals\n",
    "\n",
    "#setup plots\n",
    "titles = [\"B.1.1.7 Growth\",\"B.1.526 Growth\",\"B.1.526 NY Growth\",\"B.1.1.7\"]\n",
    "fig, ([axs1,axs2],[axs3,axs4])  = plt.subplots(2, 2,figsize=(20, 12))\n",
    "axs= fig.get_axes()\n",
    "to_plot = [u11,u15,ny15]\n",
    "for i in range(0,len(to_plot)):\n",
    "    r_sr,vals = get_frequency(to_plot[i])\n",
    "    #convert dates to numbers for regression\n",
    "    dts = np.array(pd.to_datetime(r_sr.index.values).astype(np.int64))\n",
    "    #linear regression (logistic regression model is not giving good results)\n",
    "    a,b = linear_regression(dts, vals)\n",
    "\n",
    "    #setup plot\n",
    "    y_hat = a * dts + b\n",
    "    spacing = 0.200\n",
    "    #ax = fig.add_subplot(1, 1, 1)\n",
    "    axs[i].plot(pd.to_datetime(dts), vals, 'o',label='Frequency')\n",
    "    axs[i].plot(pd.to_datetime(dts), y_hat, '-', label='Linear Regression')\n",
    "    axs[i].set_ylabel('7 day average')\n",
    "    axs[i].set_title(titles[i])\n",
    "    axs[i].autoscale()\n",
    "    axs[i].legend(loc='upper right')\n",
    "    fig.subplots_adjust(bottom=spacing)\n",
    "    axs[i].set_ylabel('7 day ave.')\n"
   ]
  }
 ],
 "metadata": {
  "interpreter": {
   "hash": "b3ba2566441a7c06988d0923437866b63cedc61552a5af99d1f4fb67d367b25f"
  },
  "kernelspec": {
   "display_name": "Python 3.8.8 64-bit ('base': conda)",
   "language": "python",
   "name": "python3"
  },
  "language_info": {
   "codemirror_mode": {
    "name": "ipython",
    "version": 3
   },
   "file_extension": ".py",
   "mimetype": "text/x-python",
   "name": "python",
   "nbconvert_exporter": "python",
   "pygments_lexer": "ipython3",
   "version": "3.8.8"
  },
  "orig_nbformat": 4
 },
 "nbformat": 4,
 "nbformat_minor": 2
}
